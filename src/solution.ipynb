{
 "cells": [
  {
   "cell_type": "code",
   "execution_count": 1,
   "metadata": {},
   "outputs": [],
   "source": [
    "## Package management\n",
    "\n",
    "import networkx as nx\n",
    "import numpy as np\n",
    "import matplotlib.pyplot as plt\n",
    "import random\n",
    "import pandas as pd\n",
    "\n",
    "pd.options.display.float_format = '{:,.6f}'.format\n",
    "np.set_printoptions(suppress=True)\n",
    "pd.options.display.max_seq_items = 2000\n",
    "pd.options.display.max_rows = 4000"
   ]
  },
  {
   "cell_type": "markdown",
   "metadata": {},
   "source": [
    "## SIS MODEL SIMULATION"
   ]
  },
  {
   "cell_type": "code",
   "execution_count": 2,
   "metadata": {},
   "outputs": [],
   "source": [
    "def sis_model(G, gamma, beta, num_iterations, infected_percent):\n",
    "    # Initialize the number of infected and susceptible nodes\n",
    "    n = len(G)\n",
    "    infected = np.random.binomial(1, infected_percent, size=n)\n",
    "    adj_matrix = nx.to_numpy_array(G)\n",
    "    adj_matrix_in_time = np.zeros((num_iterations, n), dtype=bool)\n",
    "    adj_matrix_in_time[0,:] = infected\n",
    "\n",
    "    # Iterate for the specified number of iterations\n",
    "    for t in range(1, num_iterations):\n",
    "        # Compute the transition probabilities for each node\n",
    "        previous_state = adj_matrix_in_time[t-1,:]\n",
    "        mask = np.matrix(np.split(np.random.binomial(1, beta, size=n*n), n))\n",
    "        infected = np.dot(np.multiply(mask, adj_matrix), previous_state) > 0\n",
    "        recovered = np.random.binomial(1, gamma, size=n) * previous_state\n",
    "        adj_matrix_in_time[t,:] = (previous_state | infected) & ~recovered\n",
    "\n",
    "    # Return the infected and susceptible lists\n",
    "    infected_list = np.sum(adj_matrix_in_time, axis=1)\n",
    "    susceptible_list = n - infected_list\n",
    "    return infected_list, susceptible_list\n"
   ]
  },
  {
   "cell_type": "markdown",
   "metadata": {},
   "source": [
    "## TASK 1  RESULTS"
   ]
  },
  {
   "cell_type": "code",
   "execution_count": 3,
   "metadata": {},
   "outputs": [],
   "source": [
    "graphs_names = [\n",
    "    \"Complete\",\n",
    "    \"Scale-Free\", \n",
    "    \"Small-World\",\n",
    "    \"Star\",\n",
    "    \"Regular Lattice\",\n",
    "    \"Erdos-Renyi\"\n",
    "]\n",
    "graphs = []\n",
    "for name in graphs_names:\n",
    "\tif name == 'Complete':\n",
    "\t\tgraphs.append(nx.complete_graph(1000))\n",
    "\telif name == 'Scale-Free':\n",
    "\t\tgraphs.append(nx.barabasi_albert_graph(1000, 3))\n",
    "\telif name == 'Small-World':\n",
    "\t\tgraphs.append(nx.watts_strogatz_graph(1000, 10, 0.5))\n",
    "\telif name == 'Star':\n",
    "\t\tgraphs.append(nx.star_graph(1000))\n",
    "\telif name == 'Regular Lattice':\n",
    "\t\tgraphs.append(nx.grid_graph(dim=[30, 30]))\n",
    "\telif name == 'Erdos-Renyi':\n",
    "\t\tgraphs.append(nx.erdos_renyi_graph(1000, 0.1))"
   ]
  },
  {
   "cell_type": "code",
   "execution_count": 4,
   "metadata": {},
   "outputs": [],
   "source": [
    "def plot_sis_model(graphs_names,graphs, gamma, beta, num_iterations, infected_percent):\n",
    "    \n",
    "    for i, G in enumerate(graphs):\n",
    "        # Simulate the spread of the disease on the current graph\n",
    "        infected, susceptible = sis_model(G, gamma, beta, num_iterations, infected_percent)\n",
    "        plt.figure()\n",
    "        plt.plot([x / len(G) for x in infected], label='Infected')\n",
    "        #plt.plot(susceptible, label='Susceptible')\n",
    "        plt.title(f'SIS Model on {graphs_names[i]} Graph')\n",
    "        plt.xlabel('Time step')\n",
    "        plt.ylabel('Infected fraction')\n",
    "        plt.legend()\n"
   ]
  },
  {
   "cell_type": "code",
   "execution_count": null,
   "metadata": {},
   "outputs": [],
   "source": [
    "plot_sis_model(graphs_names, graphs, gamma=0.1, beta=0.2, num_iterations=300, infected_percent=0.3)"
   ]
  },
  {
   "cell_type": "markdown",
   "metadata": {},
   "source": [
    "### TASK 2 "
   ]
  },
  {
   "cell_type": "code",
   "execution_count": null,
   "metadata": {},
   "outputs": [],
   "source": [
    "# get eigen values\n",
    "import pandas as pd\n",
    "\n",
    "def get_eigenvalues(graphs_names, graphs):\n",
    "    rows = []\n",
    "    for i, G in enumerate(graphs):\n",
    "        eigenvalues = nx.linalg.adjacency_spectrum(G)\n",
    "        max_eigenvalue = max(eigenvalues)\n",
    "        row = {'Graph': graphs_names[i], 'Eigenvalues': eigenvalues, 'Max Eigenvalue': max_eigenvalue}\n",
    "        rows.append(row)\n",
    "    \n",
    "    df = pd.DataFrame(rows, columns=['Graph', 'Eigenvalues', 'Max Eigenvalue'])\n",
    "    return df\n",
    "\n",
    "df = get_eigenvalues(graphs_names, graphs)\n",
    "\n"
   ]
  },
  {
   "cell_type": "code",
   "execution_count": null,
   "metadata": {},
   "outputs": [],
   "source": [
    "df"
   ]
  },
  {
   "cell_type": "markdown",
   "metadata": {},
   "source": [
    "## Get threshold\n"
   ]
  },
  {
   "cell_type": "code",
   "execution_count": null,
   "metadata": {},
   "outputs": [],
   "source": [
    "def find_threshold_beta(G, gamma):\n",
    "    # Compute the maximum eigenvalue of the adjacency matrix\n",
    "    max_eigenvalue = max(nx.linalg.adjacency_spectrum(G))\n",
    "    # Compute the threshold\n",
    "    beta = gamma / max_eigenvalue \n",
    "    return beta"
   ]
  },
  {
   "cell_type": "code",
   "execution_count": null,
   "metadata": {},
   "outputs": [],
   "source": [
    "rows = []\n",
    "for i, G in enumerate(graphs):\n",
    "    \n",
    "    df = pd.DataFrame(rows, columns=['Graph', 'Eigenvalues', 'Max Eigenvalue'])\n",
    "    gamma = 0.1\n",
    "    epsilon = 0.2\n",
    "    # Compute the threshold\n",
    "    beta_threshold = find_threshold_beta(G, gamma)\n",
    "    beta_slightly_above = min(1,beta_threshold*(1+epsilon))\n",
    "    beta_slightly_below = max(0,beta_threshold*(1-epsilon))\n",
    "    # Simulate the SIS model with beta and gamma slightly above the threshold\n",
    "    infected, susceptible = sis_model(G, gamma, beta_slightly_above, num_iterations=300, infected_percent=gamma)\n",
    "\t# Simulate the SIS model with beta and gamma slightly below the threshold\n",
    "    infected2, susceptible2 = sis_model(G, gamma, beta_slightly_below, num_iterations=300, infected_percent=gamma)\n",
    "    plt.figure()\n",
    "    plt.plot([x/len(G) for x in infected], label='Infected (beta above threshhold)')\n",
    "    plt.plot([x/len(G) for x in infected2], label='Infected (beta below threshhold)')\n",
    "    plt.title(f'SIS Model on {graphs_names[i]} Graph')\n",
    "    plt.xlabel('Time step')\n",
    "    plt.ylabel('Fraction of Infected Population')\n",
    "    plt.legend()\n",
    "    \n",
    "    row = {'Graph': graphs_names[i], 'gamma': gamma, 'beta_thresh': beta_threshold, 'beta_above': beta_slightly_above, 'beta_below': beta_slightly_below}\n",
    "    rows.append(row)\n",
    " \n",
    "df = pd.DataFrame(rows, columns=['Graph', 'gamma', 'beta_thresh','beta_above','beta_below'])\n",
    "df"
   ]
  }
 ],
 "metadata": {
  "kernelspec": {
   "display_name": "Python 3 (ipykernel)",
   "language": "python",
   "name": "python3"
  },
  "language_info": {
   "codemirror_mode": {
    "name": "ipython",
    "version": 3
   },
   "file_extension": ".py",
   "mimetype": "text/x-python",
   "name": "python",
   "nbconvert_exporter": "python",
   "pygments_lexer": "ipython3",
   "version": "3.10.5"
  },
  "vscode": {
   "interpreter": {
    "hash": "aee8b7b246df8f9039afb4144a1f6fd8d2ca17a180786b69acc140d282b71a49"
   }
  }
 },
 "nbformat": 4,
 "nbformat_minor": 2
}
